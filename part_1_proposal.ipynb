{
 "cells": [
  {
   "cell_type": "markdown",
   "metadata": {},
   "source": [
    "**HYPOTHESIS:**\n",
    "\n",
    "Shifts in global population have effects on how individual countries utilize their production of food commodities.\n",
    "\n",
    "For my final project, I will be using data from the Food and Agriculture Organization of the United Nations that shows patterns of a country's food supply during the period of 1961 - 2013.\n",
    "\n",
    "This data will help show how (or if) changes in population effect the utilization of a country’s food production and the food production of other counties. \n",
    "\n",
    "Some features I will be looking at will be how crops are utilized for livestock, how they are stored and exported. \n",
    "\n",
    "\n",
    "\n",
    "**ASSUMPTION:**\n",
    "\n",
    "A majority of the world's countries are experiencing growth in population that will ultimately exceed their ability to produce enough food commodities.\n",
    "\n",
    "If this trend is accurate, the difference between an individual country's increase in population and global food supply will have negative effects on it’s own health and economy and the health and economy of countries that rely on food imports. \n",
    "\n",
    "\n",
    "\n",
    "**RISKS AND LIMITATIONS:**\n",
    "\n",
    "The most recent year of data collection is 2013. While the time period for this dataset is a bit over 50 years, recent innovations in food production may not be accounted for. \n"
   ]
  },
  {
   "cell_type": "code",
   "execution_count": null,
   "metadata": {},
   "outputs": [],
   "source": [
    "from pathlib import Path\n",
    "\n",
    "import pandas as pd\n",
    "path = Path('assets', 'us_food_blance_sheet.csv')\n",
    "fbs = pd.read_csv(path)\n",
    "fbs.head()"
   ]
  }
 ],
 "metadata": {
  "kernelspec": {
   "display_name": "Python 3",
   "language": "python",
   "name": "python3"
  },
  "language_info": {
   "codemirror_mode": {
    "name": "ipython",
    "version": 3
   },
   "file_extension": ".py",
   "mimetype": "text/x-python",
   "name": "python",
   "nbconvert_exporter": "python",
   "pygments_lexer": "ipython3",
   "version": "3.6.7"
  }
 },
 "nbformat": 4,
 "nbformat_minor": 2
}
